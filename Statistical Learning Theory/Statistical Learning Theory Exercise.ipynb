{
 "cells": [
  {
   "cell_type": "markdown",
   "id": "1fdfbb24",
   "metadata": {},
   "source": [
    "# Statistical Learning Theory Exercise\n",
    "\n",
    "The following corresponds to exercise 1.10 from Abu-Mostafa, Y. S. (2012). *Learning from Data*."
   ]
  },
  {
   "cell_type": "markdown",
   "id": "94d8b86b",
   "metadata": {},
   "source": [
    "Here is an experiment that ilustrates the difference bewtween a single bin and multiple bins. Run a computer simulation for flipping $1000$ fair coins. Flip each coin independently $10$ times. Let's focus on $3$ coins as follows: $c_1$ is the first coin flipped; $c_{rand}$ is a coin you choose at random; $c_{min}$ is the coin that had de minimun frequency of heads (pick the earlier one in case of a tie). Let $v_1$, $v_{rand}$ and $v_{min}$ be the fraction of heads you obtain for the respective three coins. "
   ]
  },
  {
   "cell_type": "code",
   "execution_count": 1,
   "id": "4416a709",
   "metadata": {},
   "outputs": [
    {
     "data": {
      "text/plain": [
       "1000-element BitVector:\n",
       " 0\n",
       " 0\n",
       " 0\n",
       " 0\n",
       " 0\n",
       " 0\n",
       " 1\n",
       " 0\n",
       " 1\n",
       " 0\n",
       " 0\n",
       " 1\n",
       " 0\n",
       " ⋮\n",
       " 0\n",
       " 1\n",
       " 0\n",
       " 0\n",
       " 0\n",
       " 1\n",
       " 1\n",
       " 1\n",
       " 1\n",
       " 1\n",
       " 1\n",
       " 0"
      ]
     },
     "execution_count": 1,
     "metadata": {},
     "output_type": "execute_result"
    }
   ],
   "source": [
    "function flip(N) #define function that flips N coins once \n",
    "    toss = rand(N) #toss randomly each coin\n",
    "    flipped_coins= Bool.([if x < 0.5 0 else 1 end for x in toss]) #set tail-head results for flipping\n",
    "    return flipped_coins\n",
    "end\n",
    "\n",
    "\n",
    "flip(1000) #flipping 1000 coins"
   ]
  },
  {
   "cell_type": "markdown",
   "id": "6348a772",
   "metadata": {},
   "source": [
    "a) What is $\\mu$ for the three coins selected?\n",
    "\n",
    "Given that the coins are fair, the proportion of heads and tails after tossing is such that if we pick one at random the probability that it will be head is $\\mu=0.5$ and the probability that it will be tail es $1-\\mu=0.5$."
   ]
  },
  {
   "cell_type": "markdown",
   "id": "8e69996e",
   "metadata": {},
   "source": [
    "b) Repeat this entire experiment a large number of times (e.g $1000000$ runs on the entire experiment) to get several instances of $v_1$, $v_{rand}$ and $v_{min}$ and plot the historgrams of the distributions of $v_1$, $v_{rand}$ and $v_{min}$. Notice that which coins end up being $c_{rand}$ and $c_{min}$ may differ form one run to another."
   ]
  },
  {
   "cell_type": "markdown",
   "id": "564378b4",
   "metadata": {},
   "source": [
    "c) Using (b), plot estimates for $P|\\nu −\\mu| > \\varepsilon$ as a function of $\\varepsilon$, together with the Hoeffding bound $2e^{-2\\varepsilon^{2}N}$ (on the same graph)."
   ]
  },
  {
   "cell_type": "markdown",
   "id": "c203d511",
   "metadata": {},
   "source": [
    "d) Which coins obey the Hoeffding bound, and which ones do not? Explain why."
   ]
  },
  {
   "cell_type": "markdown",
   "id": "5d13cfc7",
   "metadata": {},
   "source": [
    "e) Relate part (d) to the multiple bins in figure 1.10. Multiple bins depict the learning problem with $M$ hypotheses."
   ]
  },
  {
   "cell_type": "code",
   "execution_count": null,
   "id": "63d3953e",
   "metadata": {},
   "outputs": [],
   "source": []
  }
 ],
 "metadata": {
  "kernelspec": {
   "display_name": "Julia 1.7.2",
   "language": "julia",
   "name": "julia-1.7"
  },
  "language_info": {
   "file_extension": ".jl",
   "mimetype": "application/julia",
   "name": "julia",
   "version": "1.7.2"
  }
 },
 "nbformat": 4,
 "nbformat_minor": 5
}
